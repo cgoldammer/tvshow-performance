{
 "cells": [
  {
   "cell_type": "code",
   "execution_count": 1,
   "metadata": {},
   "outputs": [],
   "source": [
    "import pandas as pd\n",
    "import numpy as np\n",
    "\n",
    "import statsmodels.formula.api as smf\n",
    "import imp\n",
    "\n",
    "import tvshow_functions as f"
   ]
  },
  {
   "cell_type": "code",
   "execution_count": 2,
   "metadata": {},
   "outputs": [],
   "source": [
    "pd.set_option('precision', 4)\n"
   ]
  },
  {
   "cell_type": "code",
   "execution_count": 15,
   "metadata": {},
   "outputs": [],
   "source": [
    "df_m = f.get_data(f.SHOW_MASTERCHEF)\n",
    "df_b = f.get_data(f.SHOW_BAKEOFF)"
   ]
  },
  {
   "cell_type": "markdown",
   "metadata": {},
   "source": [
    "# Do good and bad outcomes persist?"
   ]
  },
  {
   "cell_type": "markdown",
   "metadata": {},
   "source": [
    "Cleaning the data"
   ]
  },
  {
   "cell_type": "code",
   "execution_count": 16,
   "metadata": {},
   "outputs": [],
   "source": [
    "df = df_b.copy()\n",
    "df['number'] = df.groupby(['season', 'episode']).contestant.transform(lambda x: len(x))\n",
    "df['top_previous'] = df.groupby('contestant_id').top.shift(1)\n",
    "df['bottom_previous'] = df.groupby('contestant_id').bottom.shift(1)\n",
    "df['low_previous'] = df.groupby('contestant_id').low.shift(1)"
   ]
  },
  {
   "cell_type": "code",
   "execution_count": 17,
   "metadata": {},
   "outputs": [],
   "source": [
    "df_reg = df[df.bottom_previous.notnull()]"
   ]
  },
  {
   "cell_type": "markdown",
   "metadata": {},
   "source": [
    "# Do good and bad outcomes persist?"
   ]
  },
  {
   "cell_type": "markdown",
   "metadata": {},
   "source": [
    "## General approach"
   ]
  },
  {
   "cell_type": "markdown",
   "metadata": {},
   "source": [
    "Predicting whether a contestant ends up in a top position"
   ]
  },
  {
   "cell_type": "code",
   "execution_count": 22,
   "metadata": {},
   "outputs": [
    {
     "data": {
      "text/html": [
       "<table class=\"simpletable\">\n",
       "<caption>OLS Regression Results</caption>\n",
       "<tr>\n",
       "  <th>Dep. Variable:</th>       <td>I(top * 1)</td>    <th>  R-squared:         </th> <td>   0.011</td>\n",
       "</tr>\n",
       "<tr>\n",
       "  <th>Model:</th>                   <td>OLS</td>       <th>  Adj. R-squared:    </th> <td>   0.005</td>\n",
       "</tr>\n",
       "<tr>\n",
       "  <th>Method:</th>             <td>Least Squares</td>  <th>  F-statistic:       </th> <td>   1.726</td>\n",
       "</tr>\n",
       "<tr>\n",
       "  <th>Date:</th>             <td>Thu, 26 Apr 2018</td> <th>  Prob (F-statistic):</th>  <td> 0.161</td> \n",
       "</tr>\n",
       "<tr>\n",
       "  <th>Time:</th>                 <td>17:19:53</td>     <th>  Log-Likelihood:    </th> <td> -279.02</td>\n",
       "</tr>\n",
       "<tr>\n",
       "  <th>No. Observations:</th>      <td>   454</td>      <th>  AIC:               </th> <td>   566.0</td>\n",
       "</tr>\n",
       "<tr>\n",
       "  <th>Df Residuals:</th>          <td>   450</td>      <th>  BIC:               </th> <td>   582.5</td>\n",
       "</tr>\n",
       "<tr>\n",
       "  <th>Df Model:</th>              <td>     3</td>      <th>                     </th>     <td> </td>   \n",
       "</tr>\n",
       "<tr>\n",
       "  <th>Covariance Type:</th>      <td>nonrobust</td>    <th>                     </th>     <td> </td>   \n",
       "</tr>\n",
       "</table>\n",
       "<table class=\"simpletable\">\n",
       "<tr>\n",
       "              <td></td>                <th>coef</th>     <th>std err</th>      <th>t</th>      <th>P>|t|</th>  <th>[0.025</th>    <th>0.975]</th>  \n",
       "</tr>\n",
       "<tr>\n",
       "  <th>Intercept</th>                <td>    0.4528</td> <td>    0.080</td> <td>    5.644</td> <td> 0.000</td> <td>    0.295</td> <td>    0.610</td>\n",
       "</tr>\n",
       "<tr>\n",
       "  <th>I(top_previous * 1)[T.1]</th> <td>   -0.0573</td> <td>    0.050</td> <td>   -1.141</td> <td> 0.254</td> <td>   -0.156</td> <td>    0.041</td>\n",
       "</tr>\n",
       "<tr>\n",
       "  <th>I(low_previous * 1)[T.1]</th> <td>   -0.0729</td> <td>    0.056</td> <td>   -1.298</td> <td> 0.195</td> <td>   -0.183</td> <td>    0.038</td>\n",
       "</tr>\n",
       "<tr>\n",
       "  <th>number</th>                   <td>   -0.0175</td> <td>    0.009</td> <td>   -2.014</td> <td> 0.045</td> <td>   -0.035</td> <td>   -0.000</td>\n",
       "</tr>\n",
       "</table>\n",
       "<table class=\"simpletable\">\n",
       "<tr>\n",
       "  <th>Omnibus:</th>       <td>164.296</td> <th>  Durbin-Watson:     </th> <td>   2.168</td>\n",
       "</tr>\n",
       "<tr>\n",
       "  <th>Prob(Omnibus):</th> <td> 0.000</td>  <th>  Jarque-Bera (JB):  </th> <td>  88.690</td>\n",
       "</tr>\n",
       "<tr>\n",
       "  <th>Skew:</th>          <td> 0.948</td>  <th>  Prob(JB):          </th> <td>5.51e-20</td>\n",
       "</tr>\n",
       "<tr>\n",
       "  <th>Kurtosis:</th>      <td> 1.955</td>  <th>  Cond. No.          </th> <td>    35.2</td>\n",
       "</tr>\n",
       "</table>"
      ],
      "text/plain": [
       "<class 'statsmodels.iolib.summary.Summary'>\n",
       "\"\"\"\n",
       "                            OLS Regression Results                            \n",
       "==============================================================================\n",
       "Dep. Variable:             I(top * 1)   R-squared:                       0.011\n",
       "Model:                            OLS   Adj. R-squared:                  0.005\n",
       "Method:                 Least Squares   F-statistic:                     1.726\n",
       "Date:                Thu, 26 Apr 2018   Prob (F-statistic):              0.161\n",
       "Time:                        17:19:53   Log-Likelihood:                -279.02\n",
       "No. Observations:                 454   AIC:                             566.0\n",
       "Df Residuals:                     450   BIC:                             582.5\n",
       "Df Model:                           3                                         \n",
       "Covariance Type:            nonrobust                                         \n",
       "============================================================================================\n",
       "                               coef    std err          t      P>|t|      [0.025      0.975]\n",
       "--------------------------------------------------------------------------------------------\n",
       "Intercept                    0.4528      0.080      5.644      0.000       0.295       0.610\n",
       "I(top_previous * 1)[T.1]    -0.0573      0.050     -1.141      0.254      -0.156       0.041\n",
       "I(low_previous * 1)[T.1]    -0.0729      0.056     -1.298      0.195      -0.183       0.038\n",
       "number                      -0.0175      0.009     -2.014      0.045      -0.035      -0.000\n",
       "==============================================================================\n",
       "Omnibus:                      164.296   Durbin-Watson:                   2.168\n",
       "Prob(Omnibus):                  0.000   Jarque-Bera (JB):               88.690\n",
       "Skew:                           0.948   Prob(JB):                     5.51e-20\n",
       "Kurtosis:                       1.955   Cond. No.                         35.2\n",
       "==============================================================================\n",
       "\n",
       "Warnings:\n",
       "[1] Standard Errors assume that the covariance matrix of the errors is correctly specified.\n",
       "\"\"\""
      ]
     },
     "execution_count": 22,
     "metadata": {},
     "output_type": "execute_result"
    }
   ],
   "source": [
    "smf.ols('I(top*1) ~ I(top_previous*1) + I(low_previous*1) + number', data=df_reg).fit().summary()"
   ]
  },
  {
   "cell_type": "markdown",
   "metadata": {},
   "source": [
    "Predicting whether a contestant leaves the show ('out')"
   ]
  },
  {
   "cell_type": "code",
   "execution_count": 23,
   "metadata": {},
   "outputs": [
    {
     "data": {
      "text/html": [
       "<table class=\"simpletable\">\n",
       "<caption>OLS Regression Results</caption>\n",
       "<tr>\n",
       "  <th>Dep. Variable:</th>       <td>I(out * 1)</td>    <th>  R-squared:         </th> <td>   0.042</td>\n",
       "</tr>\n",
       "<tr>\n",
       "  <th>Model:</th>                   <td>OLS</td>       <th>  Adj. R-squared:    </th> <td>   0.035</td>\n",
       "</tr>\n",
       "<tr>\n",
       "  <th>Method:</th>             <td>Least Squares</td>  <th>  F-statistic:       </th> <td>   6.554</td>\n",
       "</tr>\n",
       "<tr>\n",
       "  <th>Date:</th>             <td>Thu, 26 Apr 2018</td> <th>  Prob (F-statistic):</th> <td>0.000241</td>\n",
       "</tr>\n",
       "<tr>\n",
       "  <th>Time:</th>                 <td>17:19:57</td>     <th>  Log-Likelihood:    </th> <td> -146.10</td>\n",
       "</tr>\n",
       "<tr>\n",
       "  <th>No. Observations:</th>      <td>   454</td>      <th>  AIC:               </th> <td>   300.2</td>\n",
       "</tr>\n",
       "<tr>\n",
       "  <th>Df Residuals:</th>          <td>   450</td>      <th>  BIC:               </th> <td>   316.7</td>\n",
       "</tr>\n",
       "<tr>\n",
       "  <th>Df Model:</th>              <td>     3</td>      <th>                     </th>     <td> </td>   \n",
       "</tr>\n",
       "<tr>\n",
       "  <th>Covariance Type:</th>      <td>nonrobust</td>    <th>                     </th>     <td> </td>   \n",
       "</tr>\n",
       "</table>\n",
       "<table class=\"simpletable\">\n",
       "<tr>\n",
       "              <td></td>                <th>coef</th>     <th>std err</th>      <th>t</th>      <th>P>|t|</th>  <th>[0.025</th>    <th>0.975]</th>  \n",
       "</tr>\n",
       "<tr>\n",
       "  <th>Intercept</th>                <td>    0.1428</td> <td>    0.060</td> <td>    2.386</td> <td> 0.017</td> <td>    0.025</td> <td>    0.260</td>\n",
       "</tr>\n",
       "<tr>\n",
       "  <th>I(top_previous * 1)[T.1]</th> <td>    0.0040</td> <td>    0.037</td> <td>    0.106</td> <td> 0.916</td> <td>   -0.070</td> <td>    0.078</td>\n",
       "</tr>\n",
       "<tr>\n",
       "  <th>I(low_previous * 1)[T.1]</th> <td>    0.1683</td> <td>    0.042</td> <td>    4.016</td> <td> 0.000</td> <td>    0.086</td> <td>    0.251</td>\n",
       "</tr>\n",
       "<tr>\n",
       "  <th>number</th>                   <td>   -0.0056</td> <td>    0.006</td> <td>   -0.862</td> <td> 0.389</td> <td>   -0.018</td> <td>    0.007</td>\n",
       "</tr>\n",
       "</table>\n",
       "<table class=\"simpletable\">\n",
       "<tr>\n",
       "  <th>Omnibus:</th>       <td>173.719</td> <th>  Durbin-Watson:     </th> <td>   2.124</td>\n",
       "</tr>\n",
       "<tr>\n",
       "  <th>Prob(Omnibus):</th> <td> 0.000</td>  <th>  Jarque-Bera (JB):  </th> <td> 427.051</td>\n",
       "</tr>\n",
       "<tr>\n",
       "  <th>Skew:</th>          <td> 2.023</td>  <th>  Prob(JB):          </th> <td>1.85e-93</td>\n",
       "</tr>\n",
       "<tr>\n",
       "  <th>Kurtosis:</th>      <td> 5.491</td>  <th>  Cond. No.          </th> <td>    35.2</td>\n",
       "</tr>\n",
       "</table>"
      ],
      "text/plain": [
       "<class 'statsmodels.iolib.summary.Summary'>\n",
       "\"\"\"\n",
       "                            OLS Regression Results                            \n",
       "==============================================================================\n",
       "Dep. Variable:             I(out * 1)   R-squared:                       0.042\n",
       "Model:                            OLS   Adj. R-squared:                  0.035\n",
       "Method:                 Least Squares   F-statistic:                     6.554\n",
       "Date:                Thu, 26 Apr 2018   Prob (F-statistic):           0.000241\n",
       "Time:                        17:19:57   Log-Likelihood:                -146.10\n",
       "No. Observations:                 454   AIC:                             300.2\n",
       "Df Residuals:                     450   BIC:                             316.7\n",
       "Df Model:                           3                                         \n",
       "Covariance Type:            nonrobust                                         \n",
       "============================================================================================\n",
       "                               coef    std err          t      P>|t|      [0.025      0.975]\n",
       "--------------------------------------------------------------------------------------------\n",
       "Intercept                    0.1428      0.060      2.386      0.017       0.025       0.260\n",
       "I(top_previous * 1)[T.1]     0.0040      0.037      0.106      0.916      -0.070       0.078\n",
       "I(low_previous * 1)[T.1]     0.1683      0.042      4.016      0.000       0.086       0.251\n",
       "number                      -0.0056      0.006     -0.862      0.389      -0.018       0.007\n",
       "==============================================================================\n",
       "Omnibus:                      173.719   Durbin-Watson:                   2.124\n",
       "Prob(Omnibus):                  0.000   Jarque-Bera (JB):              427.051\n",
       "Skew:                           2.023   Prob(JB):                     1.85e-93\n",
       "Kurtosis:                       5.491   Cond. No.                         35.2\n",
       "==============================================================================\n",
       "\n",
       "Warnings:\n",
       "[1] Standard Errors assume that the covariance matrix of the errors is correctly specified.\n",
       "\"\"\""
      ]
     },
     "execution_count": 23,
     "metadata": {},
     "output_type": "execute_result"
    }
   ],
   "source": [
    "smf.ols('I(out*1) ~ I(top_previous*1) + I(low_previous*1) + number', data=df_reg).fit().summary()"
   ]
  },
  {
   "cell_type": "code",
   "execution_count": 25,
   "metadata": {},
   "outputs": [],
   "source": [
    "## Comparing the results for Bakeoff and Masterchef"
   ]
  },
  {
   "cell_type": "markdown",
   "metadata": {},
   "source": [
    "Regression results with the bakeoff data"
   ]
  },
  {
   "cell_type": "code",
   "execution_count": 26,
   "metadata": {},
   "outputs": [
    {
     "data": {
      "text/html": [
       "<div>\n",
       "<style scoped>\n",
       "    .dataframe tbody tr th:only-of-type {\n",
       "        vertical-align: middle;\n",
       "    }\n",
       "\n",
       "    .dataframe tbody tr th {\n",
       "        vertical-align: top;\n",
       "    }\n",
       "\n",
       "    .dataframe thead th {\n",
       "        text-align: right;\n",
       "    }\n",
       "</style>\n",
       "<table border=\"1\" class=\"dataframe\">\n",
       "  <thead>\n",
       "    <tr style=\"text-align: right;\">\n",
       "      <th></th>\n",
       "      <th>beta_top</th>\n",
       "      <th>std_top</th>\n",
       "      <th>beta_bottom</th>\n",
       "      <th>std_bottom</th>\n",
       "    </tr>\n",
       "  </thead>\n",
       "  <tbody>\n",
       "    <tr>\n",
       "      <th>Intercept</th>\n",
       "      <td>0.4528</td>\n",
       "      <td>0.0802</td>\n",
       "      <td>0.2707</td>\n",
       "      <td>0.0816</td>\n",
       "    </tr>\n",
       "    <tr>\n",
       "      <th>I(top_previous * 1)[T.1]</th>\n",
       "      <td>-0.0573</td>\n",
       "      <td>0.0502</td>\n",
       "      <td>0.0474</td>\n",
       "      <td>0.0510</td>\n",
       "    </tr>\n",
       "    <tr>\n",
       "      <th>I(low_previous * 1)[T.1]</th>\n",
       "      <td>-0.0729</td>\n",
       "      <td>0.0562</td>\n",
       "      <td>0.2648</td>\n",
       "      <td>0.0571</td>\n",
       "    </tr>\n",
       "    <tr>\n",
       "      <th>number</th>\n",
       "      <td>-0.0175</td>\n",
       "      <td>0.0087</td>\n",
       "      <td>-0.0026</td>\n",
       "      <td>0.0088</td>\n",
       "    </tr>\n",
       "  </tbody>\n",
       "</table>\n",
       "</div>"
      ],
      "text/plain": [
       "                          beta_top  std_top  beta_bottom  std_bottom\n",
       "Intercept                   0.4528   0.0802       0.2707      0.0816\n",
       "I(top_previous * 1)[T.1]   -0.0573   0.0502       0.0474      0.0510\n",
       "I(low_previous * 1)[T.1]   -0.0729   0.0562       0.2648      0.0571\n",
       "number                     -0.0175   0.0087      -0.0026      0.0088"
      ]
     },
     "execution_count": 26,
     "metadata": {},
     "output_type": "execute_result"
    }
   ],
   "source": [
    "f.get_results(df_b)['table']"
   ]
  },
  {
   "cell_type": "markdown",
   "metadata": {},
   "source": [
    "Regression results with the masterchef data"
   ]
  },
  {
   "cell_type": "code",
   "execution_count": 27,
   "metadata": {},
   "outputs": [
    {
     "data": {
      "text/html": [
       "<div>\n",
       "<style scoped>\n",
       "    .dataframe tbody tr th:only-of-type {\n",
       "        vertical-align: middle;\n",
       "    }\n",
       "\n",
       "    .dataframe tbody tr th {\n",
       "        vertical-align: top;\n",
       "    }\n",
       "\n",
       "    .dataframe thead th {\n",
       "        text-align: right;\n",
       "    }\n",
       "</style>\n",
       "<table border=\"1\" class=\"dataframe\">\n",
       "  <thead>\n",
       "    <tr style=\"text-align: right;\">\n",
       "      <th></th>\n",
       "      <th>beta_top</th>\n",
       "      <th>std_top</th>\n",
       "      <th>beta_bottom</th>\n",
       "      <th>std_bottom</th>\n",
       "    </tr>\n",
       "  </thead>\n",
       "  <tbody>\n",
       "    <tr>\n",
       "      <th>Intercept</th>\n",
       "      <td>0.3947</td>\n",
       "      <td>0.0443</td>\n",
       "      <td>0.2996</td>\n",
       "      <td>0.0352</td>\n",
       "    </tr>\n",
       "    <tr>\n",
       "      <th>I(top_previous * 1)[T.1]</th>\n",
       "      <td>-0.0138</td>\n",
       "      <td>0.0298</td>\n",
       "      <td>0.0325</td>\n",
       "      <td>0.0237</td>\n",
       "    </tr>\n",
       "    <tr>\n",
       "      <th>I(low_previous * 1)[T.1]</th>\n",
       "      <td>-0.0537</td>\n",
       "      <td>0.0473</td>\n",
       "      <td>0.0159</td>\n",
       "      <td>0.0375</td>\n",
       "    </tr>\n",
       "    <tr>\n",
       "      <th>number</th>\n",
       "      <td>0.0037</td>\n",
       "      <td>0.0029</td>\n",
       "      <td>-0.0096</td>\n",
       "      <td>0.0023</td>\n",
       "    </tr>\n",
       "  </tbody>\n",
       "</table>\n",
       "</div>"
      ],
      "text/plain": [
       "                          beta_top  std_top  beta_bottom  std_bottom\n",
       "Intercept                   0.3947   0.0443       0.2996      0.0352\n",
       "I(top_previous * 1)[T.1]   -0.0138   0.0298       0.0325      0.0237\n",
       "I(low_previous * 1)[T.1]   -0.0537   0.0473       0.0159      0.0375\n",
       "number                      0.0037   0.0029      -0.0096      0.0023"
      ]
     },
     "execution_count": 27,
     "metadata": {},
     "output_type": "execute_result"
    }
   ],
   "source": [
    "f.get_results(df_m)['table']"
   ]
  },
  {
   "cell_type": "markdown",
   "metadata": {},
   "source": [
    "## Conclusion\n",
    "It looks"
   ]
  }
 ],
 "metadata": {
  "kernelspec": {
   "display_name": "Python 3",
   "language": "python",
   "name": "python3"
  },
  "language_info": {
   "codemirror_mode": {
    "name": "ipython",
    "version": 3
   },
   "file_extension": ".py",
   "mimetype": "text/x-python",
   "name": "python",
   "nbconvert_exporter": "python",
   "pygments_lexer": "ipython3",
   "version": "3.6.5"
  }
 },
 "nbformat": 4,
 "nbformat_minor": 2
}
